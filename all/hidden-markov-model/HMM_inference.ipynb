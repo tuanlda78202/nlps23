{
  "cells": [
    {
      "cell_type": "code",
      "execution_count": 2,
      "metadata": {
        "colab": {
          "base_uri": "https://localhost:8080/"
        },
        "id": "B4cGIMjC2zEW",
        "outputId": "66856057-3ac0-46fc-ffbc-08af803cc88d"
      },
      "outputs": [
        {
          "name": "stdout",
          "output_type": "stream",
          "text": [
            "hay giờ đành sao thơ \n",
            " vùng người \n",
            " sầu mãi bản hiến nhịp thầm cuộn \n",
            " con niệm ngẩn trở xây tí \n",
            " hát réo \n",
            " hư nợ \n",
            " tâm nhỏ phủ ca hỗn thờ \n",
            " buông thơm \n",
            " hình sâu ngừng mình còn anh một khi con ta thôn ra em đừng lần đã trốn tuôn lem trăng đã dáng bền vã dưới \n",
            " nguội năm thấy trăm phao lời âm lạ cõi đêm dĩ sóng hôm ngun đã mai là có nào em không \n",
            " khoảng đài như nếu muộn cười vũ những hy kính yếu lặng \n"
          ]
        }
      ],
      "source": [
        "!python generate.py -n 100\n"
      ]
    }
  ],
  "metadata": {
    "colab": {
      "gpuType": "T4",
      "provenance": []
    },
    "kernelspec": {
      "display_name": "Python 3",
      "name": "python3"
    },
    "language_info": {
      "codemirror_mode": {
        "name": "ipython",
        "version": 3
      },
      "file_extension": ".py",
      "mimetype": "text/x-python",
      "name": "python",
      "nbconvert_exporter": "python",
      "pygments_lexer": "ipython3",
      "version": "3.10.9"
    }
  },
  "nbformat": 4,
  "nbformat_minor": 0
}
